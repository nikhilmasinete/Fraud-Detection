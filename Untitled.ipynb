{
 "cells": [
  {
   "cell_type": "code",
   "execution_count": 1,
   "metadata": {},
   "outputs": [],
   "source": [
    "import numpy as np \n",
    "import sklearn as sk\n",
    "import pandas as pd\n",
    "import matplotlib.pyplot as plt\n",
    "from sklearn.preprocessing import scale\n",
    "import random\n",
    "import os"
   ]
  },
  {
   "cell_type": "code",
   "execution_count": 15,
   "metadata": {},
   "outputs": [],
   "source": [
    "df = pd.read_csv('creditcard.csv')\n"
   ]
  },
  {
   "cell_type": "code",
   "execution_count": 16,
   "metadata": {},
   "outputs": [
    {
     "name": "stdout",
     "output_type": "stream",
     "text": [
      "<class 'pandas.core.frame.DataFrame'>\n",
      "RangeIndex: 284807 entries, 0 to 284806\n",
      "Data columns (total 31 columns):\n",
      "Time      284807 non-null float64\n",
      "V1        284807 non-null float64\n",
      "V2        284807 non-null float64\n",
      "V3        284807 non-null float64\n",
      "V4        284807 non-null float64\n",
      "V5        284807 non-null float64\n",
      "V6        284807 non-null float64\n",
      "V7        284807 non-null float64\n",
      "V8        284807 non-null float64\n",
      "V9        284807 non-null float64\n",
      "V10       284807 non-null float64\n",
      "V11       284807 non-null float64\n",
      "V12       284807 non-null float64\n",
      "V13       284807 non-null float64\n",
      "V14       284807 non-null float64\n",
      "V15       284807 non-null float64\n",
      "V16       284807 non-null float64\n",
      "V17       284807 non-null float64\n",
      "V18       284807 non-null float64\n",
      "V19       284807 non-null float64\n",
      "V20       284807 non-null float64\n",
      "V21       284807 non-null float64\n",
      "V22       284807 non-null float64\n",
      "V23       284807 non-null float64\n",
      "V24       284807 non-null float64\n",
      "V25       284807 non-null float64\n",
      "V26       284807 non-null float64\n",
      "V27       284807 non-null float64\n",
      "V28       284807 non-null float64\n",
      "Amount    284807 non-null float64\n",
      "Class     284807 non-null int64\n",
      "dtypes: float64(30), int64(1)\n",
      "memory usage: 67.4 MB\n"
     ]
    },
    {
     "data": {
      "text/plain": [
       "(None,\n",
       " Index(['Time', 'V1', 'V2', 'V3', 'V4', 'V5', 'V6', 'V7', 'V8', 'V9', 'V10',\n",
       "        'V11', 'V12', 'V13', 'V14', 'V15', 'V16', 'V17', 'V18', 'V19', 'V20',\n",
       "        'V21', 'V22', 'V23', 'V24', 'V25', 'V26', 'V27', 'V28', 'Amount',\n",
       "        'Class'],\n",
       "       dtype='object'))"
      ]
     },
     "execution_count": 16,
     "metadata": {},
     "output_type": "execute_result"
    }
   ],
   "source": [
    "df.info(), df.columns"
   ]
  },
  {
   "cell_type": "code",
   "execution_count": 17,
   "metadata": {},
   "outputs": [],
   "source": [
    "y = df['Class']\n",
    "X = df.drop('Class', axis = 1)\n",
    "\n",
    "\n",
    "from sklearn.model_selection import train_test_split\n",
    "X_train, X_test, y_train, y_test = train_test_split(X, y, test_size = 0.02)\n",
    "X_train, X_val, y_train, y_val = train_test_split(X_train, y_train, test_size = 0.06)\n"
   ]
  },
  {
   "cell_type": "code",
   "execution_count": 18,
   "metadata": {},
   "outputs": [],
   "source": [
    "X_tr = np.array(X_train)\n",
    "X_va = np.array(X_val)\n",
    "X_t = np.array(X_test)\n",
    "y_tr = np.array(y_train)\n",
    "y_va = np.array(y_val)\n",
    "y_t = np.array(y_test)"
   ]
  },
  {
   "cell_type": "code",
   "execution_count": 19,
   "metadata": {},
   "outputs": [],
   "source": [
    "from sklearn.preprocessing import StandardScaler\n",
    "\n",
    "scaler = StandardScaler()\n",
    "scaler.fit(X_tr)\n",
    "x_tr = scaler.transform(X_tr)\n",
    "x_va = scaler.transform(X_va)\n",
    "x_t = scaler.transform(X_t)"
   ]
  },
  {
   "cell_type": "code",
   "execution_count": 26,
   "metadata": {},
   "outputs": [
    {
     "name": "stdout",
     "output_type": "stream",
     "text": [
      "Train on 262363 samples, validate on 16747 samples\n",
      "Epoch 1/100\n",
      "262363/262363 [==============================] - 8s 32us/step - loss: 0.0114 - acc: 0.9972 - val_loss: 0.0048 - val_acc: 0.9991\n",
      "Epoch 2/100\n",
      "262363/262363 [==============================] - 5s 20us/step - loss: 0.0036 - acc: 0.9994 - val_loss: 0.0035 - val_acc: 0.9991\n",
      "Epoch 3/100\n",
      "262363/262363 [==============================] - 5s 19us/step - loss: 0.0031 - acc: 0.9994 - val_loss: 0.0042 - val_acc: 0.9992\n",
      "Epoch 4/100\n",
      "262363/262363 [==============================] - 6s 22us/step - loss: 0.0029 - acc: 0.9995 - val_loss: 0.0055 - val_acc: 0.9993\n",
      "Epoch 5/100\n",
      "262363/262363 [==============================] - 5s 18us/step - loss: 0.0028 - acc: 0.9995 - val_loss: 0.0041 - val_acc: 0.9993\n",
      "Epoch 6/100\n",
      "262363/262363 [==============================] - 4s 17us/step - loss: 0.0027 - acc: 0.9996 - val_loss: 0.0050 - val_acc: 0.9993\n",
      "Epoch 7/100\n",
      "262363/262363 [==============================] - 6s 22us/step - loss: 0.0027 - acc: 0.9996 - val_loss: 0.0042 - val_acc: 0.9994\n",
      "Epoch 8/100\n",
      "262363/262363 [==============================] - 4s 16us/step - loss: 0.0026 - acc: 0.9996 - val_loss: 0.0055 - val_acc: 0.9994\n",
      "Epoch 9/100\n",
      "262363/262363 [==============================] - 4s 17us/step - loss: 0.0025 - acc: 0.9996 - val_loss: 0.0037 - val_acc: 0.9995\n",
      "Epoch 10/100\n",
      "262363/262363 [==============================] - 6s 22us/step - loss: 0.0025 - acc: 0.9996 - val_loss: 0.0044 - val_acc: 0.9995\n",
      "Epoch 11/100\n",
      "262363/262363 [==============================] - 5s 17us/step - loss: 0.0025 - acc: 0.9996 - val_loss: 0.0053 - val_acc: 0.9994\n",
      "Epoch 12/100\n",
      "262363/262363 [==============================] - 4s 16us/step - loss: 0.0024 - acc: 0.9996 - val_loss: 0.0033 - val_acc: 0.9995\n",
      "Epoch 13/100\n",
      "262363/262363 [==============================] - 5s 20us/step - loss: 0.0026 - acc: 0.9996 - val_loss: 0.0037 - val_acc: 0.9995\n",
      "Epoch 14/100\n",
      "262363/262363 [==============================] - 6s 23us/step - loss: 0.0026 - acc: 0.9996 - val_loss: 0.0033 - val_acc: 0.9995\n",
      "Epoch 15/100\n",
      "262363/262363 [==============================] - 5s 18us/step - loss: 0.0025 - acc: 0.9996 - val_loss: 0.0037 - val_acc: 0.9994\n",
      "Epoch 16/100\n",
      "262363/262363 [==============================] - 5s 20us/step - loss: 0.0026 - acc: 0.9996 - val_loss: 0.0035 - val_acc: 0.9995\n",
      "Epoch 17/100\n",
      "262363/262363 [==============================] - 5s 20us/step - loss: 0.0024 - acc: 0.9996 - val_loss: 0.0064 - val_acc: 0.9995\n",
      "Epoch 18/100\n",
      "262363/262363 [==============================] - 5s 20us/step - loss: 0.0024 - acc: 0.9996 - val_loss: 0.0033 - val_acc: 0.9995\n",
      "Epoch 19/100\n",
      "262363/262363 [==============================] - 6s 21us/step - loss: 0.0026 - acc: 0.9996 - val_loss: 0.0034 - val_acc: 0.9995\n",
      "Epoch 20/100\n",
      "262363/262363 [==============================] - 7s 26us/step - loss: 0.0025 - acc: 0.9996 - val_loss: 0.0044 - val_acc: 0.9995\n",
      "Epoch 21/100\n",
      "262363/262363 [==============================] - 7s 25us/step - loss: 0.0023 - acc: 0.9996 - val_loss: 0.0034 - val_acc: 0.9995\n",
      "Epoch 22/100\n",
      "262363/262363 [==============================] - 6s 23us/step - loss: 0.0025 - acc: 0.9996 - val_loss: 0.0038 - val_acc: 0.9995\n",
      "Epoch 23/100\n",
      "262363/262363 [==============================] - ETA: 0s - loss: 0.0025 - acc: 0.999 - 5s 18us/step - loss: 0.0025 - acc: 0.9996 - val_loss: 0.0043 - val_acc: 0.9995\n",
      "Epoch 24/100\n",
      "262363/262363 [==============================] - 5s 17us/step - loss: 0.0025 - acc: 0.9996 - val_loss: 0.0037 - val_acc: 0.9995\n",
      "Epoch 25/100\n",
      "262363/262363 [==============================] - 6s 24us/step - loss: 0.0029 - acc: 0.9996 - val_loss: 0.0039 - val_acc: 0.9993\n",
      "Epoch 26/100\n",
      "262363/262363 [==============================] - 5s 18us/step - loss: 0.0032 - acc: 0.9996 - val_loss: 0.0077 - val_acc: 0.9995\n",
      "Epoch 27/100\n",
      "262363/262363 [==============================] - 5s 18us/step - loss: 0.0025 - acc: 0.9996 - val_loss: 0.0043 - val_acc: 0.9994\n",
      "Epoch 28/100\n",
      "262363/262363 [==============================] - 6s 24us/step - loss: 0.0027 - acc: 0.9996 - val_loss: 0.0040 - val_acc: 0.9994\n",
      "Epoch 29/100\n",
      "262363/262363 [==============================] - 5s 20us/step - loss: 0.0024 - acc: 0.9996 - val_loss: 0.0036 - val_acc: 0.9996\n",
      "Epoch 30/100\n",
      "262363/262363 [==============================] - 6s 21us/step - loss: 0.0025 - acc: 0.9996 - val_loss: 0.0032 - val_acc: 0.9995\n",
      "Epoch 31/100\n",
      "262363/262363 [==============================] - 7s 27us/step - loss: 0.0026 - acc: 0.9996 - val_loss: 0.0031 - val_acc: 0.9996\n",
      "Epoch 32/100\n",
      "262363/262363 [==============================] - 5s 21us/step - loss: 0.0325 - acc: 0.9978 - val_loss: 0.0065 - val_acc: 0.9995\n",
      "Epoch 33/100\n",
      "262363/262363 [==============================] - 6s 21us/step - loss: 0.0054 - acc: 0.9992 - val_loss: 0.0077 - val_acc: 0.9993\n",
      "Epoch 34/100\n",
      "262363/262363 [==============================] - 6s 23us/step - loss: 0.0027 - acc: 0.9996 - val_loss: 0.0032 - val_acc: 0.9996\n",
      "Epoch 35/100\n",
      "262363/262363 [==============================] - 5s 18us/step - loss: 0.0024 - acc: 0.9997 - val_loss: 0.0052 - val_acc: 0.9995\n",
      "Epoch 36/100\n",
      "262363/262363 [==============================] - 7s 26us/step - loss: 0.0027 - acc: 0.9996 - val_loss: 0.0050 - val_acc: 0.9996\n",
      "Epoch 37/100\n",
      "262363/262363 [==============================] - 8s 30us/step - loss: 0.0029 - acc: 0.9996 - val_loss: 0.0034 - val_acc: 0.9995\n",
      "Epoch 38/100\n",
      "262363/262363 [==============================] - 7s 25us/step - loss: 0.0034 - acc: 0.9996 - val_loss: 0.0049 - val_acc: 0.9996\n",
      "Epoch 39/100\n",
      "262363/262363 [==============================] - 6s 24us/step - loss: 0.0036 - acc: 0.9996 - val_loss: 0.0070 - val_acc: 0.9996\n",
      "Epoch 40/100\n",
      "262363/262363 [==============================] - 6s 22us/step - loss: 0.0032 - acc: 0.9996 - val_loss: 0.0070 - val_acc: 0.9995\n",
      "Epoch 41/100\n",
      "262363/262363 [==============================] - 8s 31us/step - loss: 0.0050 - acc: 0.9996 - val_loss: 0.0080 - val_acc: 0.9993\n",
      "Epoch 42/100\n",
      "262363/262363 [==============================] - 7s 27us/step - loss: 0.0351 - acc: 0.9977 - val_loss: 0.0077 - val_acc: 0.9995\n",
      "Epoch 43/100\n",
      "262363/262363 [==============================] - 6s 24us/step - loss: 0.0049 - acc: 0.9996 - val_loss: 0.0078 - val_acc: 0.9995\n",
      "Epoch 44/100\n",
      "262363/262363 [==============================] - 6s 23us/step - loss: 0.0044 - acc: 0.9997 - val_loss: 0.0050 - val_acc: 0.9996\n",
      "Epoch 45/100\n",
      "262363/262363 [==============================] - 6s 21us/step - loss: 0.0040 - acc: 0.9997 - val_loss: 0.0079 - val_acc: 0.9992\n",
      "Epoch 46/100\n",
      "262363/262363 [==============================] - 8s 30us/step - loss: 0.0044 - acc: 0.9996 - val_loss: 0.0077 - val_acc: 0.9995\n",
      "Epoch 47/100\n",
      "262363/262363 [==============================] - 7s 26us/step - loss: 0.0067 - acc: 0.9995 - val_loss: 0.0096 - val_acc: 0.9994\n",
      "Epoch 48/100\n",
      "262363/262363 [==============================] - 7s 27us/step - loss: 0.0049 - acc: 0.9996 - val_loss: 0.0058 - val_acc: 0.9996\n",
      "Epoch 49/100\n",
      "262363/262363 [==============================] - 7s 27us/step - loss: 0.0036 - acc: 0.9997 - val_loss: 0.0042 - val_acc: 0.9996\n",
      "Epoch 50/100\n",
      "262363/262363 [==============================] - 7s 28us/step - loss: 0.0039 - acc: 0.9997 - val_loss: 0.0087 - val_acc: 0.9995\n",
      "Epoch 51/100\n",
      "262363/262363 [==============================] - 6s 24us/step - loss: 0.0058 - acc: 0.9996 - val_loss: 0.0099 - val_acc: 0.9993\n",
      "Epoch 52/100\n",
      "262363/262363 [==============================] - 5s 20us/step - loss: 0.0057 - acc: 0.9996 - val_loss: 0.0073 - val_acc: 0.9995\n",
      "Epoch 53/100\n",
      "262363/262363 [==============================] - 7s 25us/step - loss: 0.0044 - acc: 0.9997 - val_loss: 0.0097 - val_acc: 0.9993\n",
      "Epoch 54/100\n",
      "262363/262363 [==============================] - 6s 21us/step - loss: 0.0052 - acc: 0.9997 - val_loss: 0.0096 - val_acc: 0.9994\n",
      "Epoch 55/100\n",
      "262363/262363 [==============================] - 5s 18us/step - loss: 0.0052 - acc: 0.9996 - val_loss: 0.0087 - val_acc: 0.9995\n",
      "Epoch 56/100\n",
      "262363/262363 [==============================] - 6s 23us/step - loss: 0.0061 - acc: 0.9996 - val_loss: 0.0096 - val_acc: 0.9994\n",
      "Epoch 57/100\n",
      "262363/262363 [==============================] - 5s 18us/step - loss: 0.0062 - acc: 0.9996 - val_loss: 0.0078 - val_acc: 0.9995\n",
      "Epoch 58/100\n"
     ]
    },
    {
     "name": "stdout",
     "output_type": "stream",
     "text": [
      "262363/262363 [==============================] - 4s 17us/step - loss: 0.0049 - acc: 0.9996 - val_loss: 0.0067 - val_acc: 0.9996\n",
      "Epoch 59/100\n",
      "262363/262363 [==============================] - 6s 21us/step - loss: 0.0046 - acc: 0.9997 - val_loss: 0.0067 - val_acc: 0.9996\n",
      "Epoch 60/100\n",
      "262363/262363 [==============================] - 6s 23us/step - loss: 0.0044 - acc: 0.9997 - val_loss: 0.0067 - val_acc: 0.9996\n",
      "Epoch 61/100\n",
      "262363/262363 [==============================] - 6s 25us/step - loss: 0.0053 - acc: 0.9997 - val_loss: 0.0077 - val_acc: 0.9995\n",
      "Epoch 62/100\n",
      "262363/262363 [==============================] - 6s 23us/step - loss: 0.0050 - acc: 0.9997 - val_loss: 0.0086 - val_acc: 0.9995\n",
      "Epoch 63/100\n",
      "262363/262363 [==============================] - 4s 16us/step - loss: 0.0067 - acc: 0.9996 - val_loss: 0.0115 - val_acc: 0.9993\n",
      "Epoch 64/100\n",
      "262363/262363 [==============================] - 4s 16us/step - loss: 0.0061 - acc: 0.9996 - val_loss: 0.0096 - val_acc: 0.9994\n",
      "Epoch 65/100\n",
      "262363/262363 [==============================] - 6s 21us/step - loss: 0.0052 - acc: 0.9997 - val_loss: 0.0077 - val_acc: 0.9995\n",
      "Epoch 66/100\n",
      "262363/262363 [==============================] - 5s 17us/step - loss: 0.0051 - acc: 0.9997 - val_loss: 0.0077 - val_acc: 0.9995\n",
      "Epoch 67/100\n",
      "262363/262363 [==============================] - 4s 17us/step - loss: 0.0051 - acc: 0.9997 - val_loss: 0.0077 - val_acc: 0.9995\n",
      "Epoch 68/100\n",
      "262363/262363 [==============================] - 6s 21us/step - loss: 0.0051 - acc: 0.9997 - val_loss: 0.0077 - val_acc: 0.9995\n",
      "Epoch 69/100\n",
      "262363/262363 [==============================] - 7s 26us/step - loss: 0.0051 - acc: 0.9997 - val_loss: 0.0077 - val_acc: 0.9995\n",
      "Epoch 70/100\n",
      "262363/262363 [==============================] - 5s 18us/step - loss: 0.0051 - acc: 0.9997 - val_loss: 0.0077 - val_acc: 0.9995\n",
      "Epoch 71/100\n",
      "262363/262363 [==============================] - 6s 24us/step - loss: 0.0051 - acc: 0.9997 - val_loss: 0.0077 - val_acc: 0.9995\n",
      "Epoch 72/100\n",
      "262363/262363 [==============================] - 5s 17us/step - loss: 0.0051 - acc: 0.9997 - val_loss: 0.0077 - val_acc: 0.9995\n",
      "Epoch 73/100\n",
      "262363/262363 [==============================] - 4s 17us/step - loss: 0.0051 - acc: 0.9997 - val_loss: 0.0077 - val_acc: 0.9995\n",
      "Epoch 74/100\n",
      "262363/262363 [==============================] - 6s 22us/step - loss: 0.0051 - acc: 0.9997 - val_loss: 0.0077 - val_acc: 0.9995\n",
      "Epoch 75/100\n",
      "262363/262363 [==============================] - 5s 17us/step - loss: 0.0051 - acc: 0.9997 - val_loss: 0.0077 - val_acc: 0.9995\n",
      "Epoch 76/100\n",
      "262363/262363 [==============================] - 4s 17us/step - loss: 0.0051 - acc: 0.9997 - val_loss: 0.0077 - val_acc: 0.9995\n",
      "Epoch 77/100\n",
      "262363/262363 [==============================] - 5s 18us/step - loss: 0.0051 - acc: 0.9997 - val_loss: 0.0077 - val_acc: 0.9995\n",
      "Epoch 78/100\n",
      "262363/262363 [==============================] - 5s 19us/step - loss: 0.0051 - acc: 0.9997 - val_loss: 0.0077 - val_acc: 0.9995\n",
      "Epoch 79/100\n",
      "262363/262363 [==============================] - 4s 16us/step - loss: 0.0051 - acc: 0.9997 - val_loss: 0.0077 - val_acc: 0.9995\n",
      "Epoch 80/100\n",
      "262363/262363 [==============================] - 4s 16us/step - loss: 0.0051 - acc: 0.9997 - val_loss: 0.0077 - val_acc: 0.9995\n",
      "Epoch 81/100\n",
      "262363/262363 [==============================] - 6s 24us/step - loss: 0.0051 - acc: 0.9997 - val_loss: 0.0077 - val_acc: 0.9995\n",
      "Epoch 82/100\n",
      "262363/262363 [==============================] - 4s 16us/step - loss: 0.0051 - acc: 0.9997 - val_loss: 0.0077 - val_acc: 0.9995\n",
      "Epoch 83/100\n",
      "262363/262363 [==============================] - 5s 20us/step - loss: 0.0051 - acc: 0.9997 - val_loss: 0.0077 - val_acc: 0.9995\n",
      "Epoch 84/100\n",
      "262363/262363 [==============================] - 8s 30us/step - loss: 0.0051 - acc: 0.9997 - val_loss: 0.0077 - val_acc: 0.9995\n",
      "Epoch 85/100\n",
      "262363/262363 [==============================] - 6s 23us/step - loss: 0.0051 - acc: 0.9997 - val_loss: 0.0077 - val_acc: 0.9995\n",
      "Epoch 86/100\n",
      "262363/262363 [==============================] - 6s 22us/step - loss: 0.0051 - acc: 0.9997 - val_loss: 0.0077 - val_acc: 0.9995\n",
      "Epoch 87/100\n",
      "262363/262363 [==============================] - 5s 19us/step - loss: 0.0051 - acc: 0.9997 - val_loss: 0.0077 - val_acc: 0.9995\n",
      "Epoch 88/100\n",
      "262363/262363 [==============================] - 4s 17us/step - loss: 0.0051 - acc: 0.9997 - val_loss: 0.0077 - val_acc: 0.9995\n",
      "Epoch 89/100\n",
      "262363/262363 [==============================] - 5s 19us/step - loss: 0.0051 - acc: 0.9997 - val_loss: 0.0077 - val_acc: 0.9995\n",
      "Epoch 90/100\n",
      "262363/262363 [==============================] - 5s 20us/step - loss: 0.0051 - acc: 0.9997 - val_loss: 0.0077 - val_acc: 0.9995\n",
      "Epoch 91/100\n",
      "262363/262363 [==============================] - 4s 17us/step - loss: 0.0051 - acc: 0.9997 - val_loss: 0.0077 - val_acc: 0.9995\n",
      "Epoch 92/100\n",
      "262363/262363 [==============================] - 4s 16us/step - loss: 0.0051 - acc: 0.9997 - val_loss: 0.0077 - val_acc: 0.9995\n",
      "Epoch 93/100\n",
      "262363/262363 [==============================] - 7s 28us/step - loss: 0.0051 - acc: 0.9997 - val_loss: 0.0077 - val_acc: 0.9995\n",
      "Epoch 94/100\n",
      "262363/262363 [==============================] - 5s 20us/step - loss: 0.0051 - acc: 0.9997 - val_loss: 0.0077 - val_acc: 0.9995\n",
      "Epoch 95/100\n",
      "262363/262363 [==============================] - 5s 19us/step - loss: 0.0051 - acc: 0.9997 - val_loss: 0.0077 - val_acc: 0.9995\n",
      "Epoch 96/100\n",
      "262363/262363 [==============================] - 7s 27us/step - loss: 0.0051 - acc: 0.9997 - val_loss: 0.0077 - val_acc: 0.9995\n",
      "Epoch 97/100\n",
      "262363/262363 [==============================] - 6s 22us/step - loss: 0.0051 - acc: 0.9997 - val_loss: 0.0077 - val_acc: 0.9995\n",
      "Epoch 98/100\n",
      "262363/262363 [==============================] - 7s 27us/step - loss: 0.0051 - acc: 0.9997 - val_loss: 0.0077 - val_acc: 0.9995\n",
      "Epoch 99/100\n",
      "262363/262363 [==============================] - 6s 24us/step - loss: 0.0051 - acc: 0.9997 - val_loss: 0.0077 - val_acc: 0.9995\n",
      "Epoch 100/100\n",
      "262363/262363 [==============================] - 6s 22us/step - loss: 0.0051 - acc: 0.9997 - val_loss: 0.0077 - val_acc: 0.9995\n"
     ]
    }
   ],
   "source": [
    "from keras.layers import Dense\n",
    "from keras.models import Sequential\n",
    "model = Sequential()\n",
    "model.add(Dense(64,activation = 'relu',input_shape = (x_tr.shape[1],)))\n",
    "model.add(Dense(64,activation = 'relu'))\n",
    "model.add(Dense(64,activation= 'relu')) \n",
    "model.add(Dense(64,activation = 'relu'))\n",
    "model.add(Dense(64,activation= 'relu')) \n",
    "model.add(Dense(64,activation = 'relu'))\n",
    "model.add(Dense(64,activation= 'relu')) \n",
    "model.add(Dense(64,activation = 'relu'))\n",
    "model.add(Dense(64,activation= 'relu')) \n",
    "model.add(Dense(1,activation = 'sigmoid'))\n",
    "model.compile(optimizer = 'rmsprop', loss = 'binary_crossentropy',metrics = ['accuracy'])\n",
    "history = model.fit(x_tr,y_tr,epochs = 100, batch_size = 512, validation_data=(x_va,y_va))"
   ]
  },
  {
   "cell_type": "code",
   "execution_count": 27,
   "metadata": {},
   "outputs": [
    {
     "data": {
      "text/plain": [
       "dict_keys(['val_loss', 'val_acc', 'loss', 'acc'])"
      ]
     },
     "execution_count": 27,
     "metadata": {},
     "output_type": "execute_result"
    }
   ],
   "source": [
    "history_dic = history.history\n",
    "history_dic.keys()"
   ]
  },
  {
   "cell_type": "code",
   "execution_count": 28,
   "metadata": {},
   "outputs": [],
   "source": [
    "loss_values = history_dic['loss']\n",
    "val_loss_values = history_dic['val_loss']\n",
    "epochs = range(1,len(history_dic['acc'])+1)"
   ]
  },
  {
   "cell_type": "code",
   "execution_count": 29,
   "metadata": {},
   "outputs": [
    {
     "data": {
      "image/png": "[encoded data removed]",
      "text/plain": [
       "<Figure size 432x288 with 1 Axes>"
      ]
     },
     "metadata": {
      "needs_background": "light"
     },
     "output_type": "display_data"
    }
   ],
   "source": [
    "plt.plot(epochs, loss_values, 'bo', label = 'Training loss')\n",
    "plt.plot(epochs, val_loss_values,'b+', label = 'Validation loss')\n",
    "plt.title('Training and Validation loss')\n",
    "plt.xlabel('Epochs')\n",
    "plt.xticks()\n",
    "plt.ylabel('Loss')\n",
    "plt.yticks()\n",
    "plt.legend()\n",
    "plt.show()"
   ]
  },
  {
   "cell_type": "code",
   "execution_count": 30,
   "metadata": {},
   "outputs": [
    {
     "data": {
      "image/png": "[encoded data removed]",
      "text/plain": [
       "<Figure size 432x288 with 1 Axes>"
      ]
     },
     "metadata": {
      "needs_background": "light"
     },
     "output_type": "display_data"
    }
   ],
   "source": [
    "acc_values = history_dic['acc']\n",
    "val_acc_values = history_dic['val_acc']\n",
    "plt.plot(epochs, acc_values, 'bo', label = 'Training acc')\n",
    "plt.plot(epochs, val_acc_values,'b+', label = 'Validation acc')\n",
    "plt.title('Training and Validation accuracy')\n",
    "plt.xlabel('Epochs')\n",
    "plt.xticks()\n",
    "plt.ylabel('Accuracy')\n",
    "plt.yticks()\n",
    "plt.legend()\n",
    "plt.show()"
   ]
  },
  {
   "cell_type": "code",
   "execution_count": 31,
   "metadata": {},
   "outputs": [
    {
     "name": "stdout",
     "output_type": "stream",
     "text": [
      "5697/5697 [==============================] - 0s 42us/step\n"
     ]
    }
   ],
   "source": [
    "results = model.evaluate(x_t,y_t)"
   ]
  },
  {
   "cell_type": "code",
   "execution_count": 32,
   "metadata": {},
   "outputs": [
    {
     "data": {
      "text/plain": [
       "[0.008426089643951489, 0.9994734070563455]"
      ]
     },
     "execution_count": 32,
     "metadata": {},
     "output_type": "execute_result"
    }
   ],
   "source": [
    "results"
   ]
  },
  {
   "cell_type": "code",
   "execution_count": null,
   "metadata": {},
   "outputs": [],
   "source": []
  }
 ],
 "metadata": {
  "kernelspec": {
   "display_name": "Python 3",
   "language": "python",
   "name": "python3"
  },
  "language_info": {
   "codemirror_mode": {
    "name": "ipython",
    "version": 3
   },
   "file_extension": ".py",
   "mimetype": "text/x-python",
   "name": "python",
   "nbconvert_exporter": "python",
   "pygments_lexer": "ipython3",
   "version": "3.7.3"
  }
 },
 "nbformat": 4,
 "nbformat_minor": 4
}
