{
 "cells": [
  {
   "cell_type": "code",
   "execution_count": 18,
   "metadata": {},
   "outputs": [],
   "source": [
    "import numpy as np \n",
    "import sklearn as sk\n",
    "import pandas as pd\n",
    "import matplotlib.pyplot as plt\n",
    "from sklearn.preprocessing import scale\n",
    "import random\n",
    "import os"
   ]
  },
  {
   "cell_type": "code",
   "execution_count": 2,
   "metadata": {},
   "outputs": [],
   "source": [
    "df = pd.read_csv('creditcard.csv')"
   ]
  },
  {
   "cell_type": "code",
   "execution_count": 3,
   "metadata": {},
   "outputs": [
    {
     "name": "stdout",
     "output_type": "stream",
     "text": [
      "<class 'pandas.core.frame.DataFrame'>\n",
      "RangeIndex: 284807 entries, 0 to 284806\n",
      "Data columns (total 31 columns):\n",
      "Time      284807 non-null float64\n",
      "V1        284807 non-null float64\n",
      "V2        284807 non-null float64\n",
      "V3        284807 non-null float64\n",
      "V4        284807 non-null float64\n",
      "V5        284807 non-null float64\n",
      "V6        284807 non-null float64\n",
      "V7        284807 non-null float64\n",
      "V8        284807 non-null float64\n",
      "V9        284807 non-null float64\n",
      "V10       284807 non-null float64\n",
      "V11       284807 non-null float64\n",
      "V12       284807 non-null float64\n",
      "V13       284807 non-null float64\n",
      "V14       284807 non-null float64\n",
      "V15       284807 non-null float64\n",
      "V16       284807 non-null float64\n",
      "V17       284807 non-null float64\n",
      "V18       284807 non-null float64\n",
      "V19       284807 non-null float64\n",
      "V20       284807 non-null float64\n",
      "V21       284807 non-null float64\n",
      "V22       284807 non-null float64\n",
      "V23       284807 non-null float64\n",
      "V24       284807 non-null float64\n",
      "V25       284807 non-null float64\n",
      "V26       284807 non-null float64\n",
      "V27       284807 non-null float64\n",
      "V28       284807 non-null float64\n",
      "Amount    284807 non-null float64\n",
      "Class     284807 non-null int64\n",
      "dtypes: float64(30), int64(1)\n",
      "memory usage: 67.4 MB\n"
     ]
    },
    {
     "data": {
      "text/plain": [
       "(None,\n",
       " Index(['Time', 'V1', 'V2', 'V3', 'V4', 'V5', 'V6', 'V7', 'V8', 'V9', 'V10',\n",
       "        'V11', 'V12', 'V13', 'V14', 'V15', 'V16', 'V17', 'V18', 'V19', 'V20',\n",
       "        'V21', 'V22', 'V23', 'V24', 'V25', 'V26', 'V27', 'V28', 'Amount',\n",
       "        'Class'],\n",
       "       dtype='object'))"
      ]
     },
     "execution_count": 3,
     "metadata": {},
     "output_type": "execute_result"
    }
   ],
   "source": [
    "df.info(), df.columns"
   ]
  },
  {
   "cell_type": "code",
   "execution_count": 8,
   "metadata": {},
   "outputs": [],
   "source": [
    "y = df['Class']\n",
    "x = df.drop('Class', axis = 1)\n",
    "X = scale(x)\n",
    "\n",
    "from sklearn.model_selection import train_test_split\n",
    "X_train, X_test = train_test_split(X, test_size = 0.02)\n",
    "y_train, y_test = train_test_split(y, test_size = 0.02)\n",
    "X_train, X_val = train_test_split(X_train, test_size = 0.06)\n",
    "y_train, y_val = train_test_split(y_train, test_size = 0.06)"
   ]
  },
  {
   "cell_type": "code",
   "execution_count": 9,
   "metadata": {},
   "outputs": [],
   "source": [
    "# X_train = X[:284000]\n",
    "# y_train = y[:284000]\n",
    "# X_val = X[284000:284400]\n",
    "# y_val = y[284000:284400]\n",
    "# X_test = X[284400:]\n",
    "# y_test = y[284400:]\n",
    "X_tr = np.array(X_train)\n",
    "X_va = np.array(X_val)\n",
    "X_t = np.array(X_test)\n",
    "y_tr = np.array(y_train)\n",
    "y_va = np.array(y_val)\n",
    "y_t = np.array(y_test)"
   ]
  },
  {
   "cell_type": "code",
   "execution_count": 10,
   "metadata": {},
   "outputs": [],
   "source": [
    "from sklearn.preprocessing import StandardScaler\n",
    "\n",
    "scaler = StandardScaler()\n",
    "scaler.fit(X_tr)\n",
    "x_tr = scaler.transform(X_tr)\n",
    "x_va = scaler.transform(X_va)\n",
    "x_t = scaler.transform(X_t)\n"
   ]
  },
  {
   "cell_type": "code",
   "execution_count": 11,
   "metadata": {},
   "outputs": [
    {
     "name": "stdout",
     "output_type": "stream",
     "text": [
      "Train on 262363 samples, validate on 16747 samples\n",
      "Epoch 1/50\n",
      "262363/262363 [==============================] - 3s 12us/step - loss: 0.0212 - acc: 0.9974 - val_loss: 0.0104 - val_acc: 0.9987\n",
      "Epoch 2/50\n",
      "262363/262363 [==============================] - 3s 10us/step - loss: 0.0135 - acc: 0.9983 - val_loss: 0.0106 - val_acc: 0.9987\n",
      "Epoch 3/50\n",
      "262363/262363 [==============================] - 3s 10us/step - loss: 0.0133 - acc: 0.9983 - val_loss: 0.0112 - val_acc: 0.9987\n",
      "Epoch 4/50\n",
      "262363/262363 [==============================] - 3s 10us/step - loss: 0.0131 - acc: 0.9983 - val_loss: 0.0104 - val_acc: 0.9987\n",
      "Epoch 5/50\n",
      "262363/262363 [==============================] - 3s 10us/step - loss: 0.0130 - acc: 0.9983 - val_loss: 0.0104 - val_acc: 0.9987\n",
      "Epoch 6/50\n",
      "262363/262363 [==============================] - 3s 10us/step - loss: 0.0130 - acc: 0.9983 - val_loss: 0.0104 - val_acc: 0.9987\n",
      "Epoch 7/50\n",
      "262363/262363 [==============================] - 2s 9us/step - loss: 0.0129 - acc: 0.9983 - val_loss: 0.0111 - val_acc: 0.9987\n",
      "Epoch 8/50\n",
      "262363/262363 [==============================] - 2s 9us/step - loss: 0.0129 - acc: 0.9983 - val_loss: 0.0107 - val_acc: 0.9987\n",
      "Epoch 9/50\n",
      "262363/262363 [==============================] - 2s 9us/step - loss: 0.0128 - acc: 0.9983 - val_loss: 0.0104 - val_acc: 0.9987\n",
      "Epoch 10/50\n",
      "262363/262363 [==============================] - 2s 9us/step - loss: 0.0128 - acc: 0.9983 - val_loss: 0.0107 - val_acc: 0.9987\n",
      "Epoch 11/50\n",
      "262363/262363 [==============================] - 2s 9us/step - loss: 0.0128 - acc: 0.9983 - val_loss: 0.0107 - val_acc: 0.9987\n",
      "Epoch 12/50\n",
      "262363/262363 [==============================] - 2s 9us/step - loss: 0.0127 - acc: 0.9983 - val_loss: 0.0105 - val_acc: 0.9987\n",
      "Epoch 13/50\n",
      "262363/262363 [==============================] - 2s 9us/step - loss: 0.0128 - acc: 0.9983 - val_loss: 0.0105 - val_acc: 0.9987\n",
      "Epoch 14/50\n",
      "262363/262363 [==============================] - 2s 10us/step - loss: 0.0126 - acc: 0.9983 - val_loss: 0.0107 - val_acc: 0.9987\n",
      "Epoch 15/50\n",
      "262363/262363 [==============================] - 2s 9us/step - loss: 0.0127 - acc: 0.9983 - val_loss: 0.0108 - val_acc: 0.9987\n",
      "Epoch 16/50\n",
      "262363/262363 [==============================] - 2s 9us/step - loss: 0.0127 - acc: 0.9983 - val_loss: 0.0104 - val_acc: 0.9987\n",
      "Epoch 17/50\n",
      "262363/262363 [==============================] - 2s 9us/step - loss: 0.0127 - acc: 0.9983 - val_loss: 0.0103 - val_acc: 0.9987\n",
      "Epoch 18/50\n",
      "262363/262363 [==============================] - 2s 9us/step - loss: 0.0127 - acc: 0.9983 - val_loss: 0.0105 - val_acc: 0.9987\n",
      "Epoch 19/50\n",
      "262363/262363 [==============================] - 2s 9us/step - loss: 0.0126 - acc: 0.9983 - val_loss: 0.0105 - val_acc: 0.9987\n",
      "Epoch 20/50\n",
      "262363/262363 [==============================] - 2s 9us/step - loss: 0.0126 - acc: 0.9983 - val_loss: 0.0112 - val_acc: 0.9987\n",
      "Epoch 21/50\n",
      "262363/262363 [==============================] - 2s 9us/step - loss: 0.0126 - acc: 0.9983 - val_loss: 0.0108 - val_acc: 0.9987\n",
      "Epoch 22/50\n",
      "262363/262363 [==============================] - 2s 9us/step - loss: 0.0126 - acc: 0.9983 - val_loss: 0.0109 - val_acc: 0.9987\n",
      "Epoch 23/50\n",
      "262363/262363 [==============================] - 2s 9us/step - loss: 0.0125 - acc: 0.9983 - val_loss: 0.0114 - val_acc: 0.9987\n",
      "Epoch 24/50\n",
      "262363/262363 [==============================] - 2s 9us/step - loss: 0.0126 - acc: 0.9983 - val_loss: 0.0104 - val_acc: 0.9987\n",
      "Epoch 25/50\n",
      "262363/262363 [==============================] - 3s 10us/step - loss: 0.0125 - acc: 0.9983 - val_loss: 0.0115 - val_acc: 0.9987\n",
      "Epoch 26/50\n",
      "262363/262363 [==============================] - 2s 9us/step - loss: 0.0125 - acc: 0.9983 - val_loss: 0.0105 - val_acc: 0.9987\n",
      "Epoch 27/50\n",
      "262363/262363 [==============================] - 3s 10us/step - loss: 0.0126 - acc: 0.9983 - val_loss: 0.0106 - val_acc: 0.9987\n",
      "Epoch 28/50\n",
      "262363/262363 [==============================] - 2s 9us/step - loss: 0.0125 - acc: 0.9983 - val_loss: 0.0120 - val_acc: 0.9987\n",
      "Epoch 29/50\n",
      "262363/262363 [==============================] - 2s 9us/step - loss: 0.0125 - acc: 0.9983 - val_loss: 0.0107 - val_acc: 0.9987\n",
      "Epoch 30/50\n",
      "262363/262363 [==============================] - 2s 9us/step - loss: 0.0125 - acc: 0.9983 - val_loss: 0.0106 - val_acc: 0.9987\n",
      "Epoch 31/50\n",
      "262363/262363 [==============================] - 2s 9us/step - loss: 0.0125 - acc: 0.9983 - val_loss: 0.0105 - val_acc: 0.9987\n",
      "Epoch 32/50\n",
      "262363/262363 [==============================] - 2s 9us/step - loss: 0.0125 - acc: 0.9983 - val_loss: 0.0107 - val_acc: 0.9987\n",
      "Epoch 33/50\n",
      "262363/262363 [==============================] - 2s 9us/step - loss: 0.0125 - acc: 0.9983 - val_loss: 0.0109 - val_acc: 0.9987\n",
      "Epoch 34/50\n",
      "262363/262363 [==============================] - 2s 9us/step - loss: 0.0125 - acc: 0.9983 - val_loss: 0.0119 - val_acc: 0.9987\n",
      "Epoch 35/50\n",
      "262363/262363 [==============================] - 2s 8us/step - loss: 0.0125 - acc: 0.9983 - val_loss: 0.0108 - val_acc: 0.9987\n",
      "Epoch 36/50\n",
      "262363/262363 [==============================] - 2s 9us/step - loss: 0.0125 - acc: 0.9983 - val_loss: 0.0108 - val_acc: 0.9987\n",
      "Epoch 37/50\n",
      "262363/262363 [==============================] - 2s 9us/step - loss: 0.0124 - acc: 0.9983 - val_loss: 0.0107 - val_acc: 0.9987\n",
      "Epoch 38/50\n",
      "262363/262363 [==============================] - 2s 9us/step - loss: 0.0124 - acc: 0.9983 - val_loss: 0.0112 - val_acc: 0.9987\n",
      "Epoch 39/50\n",
      "262363/262363 [==============================] - 2s 9us/step - loss: 0.0124 - acc: 0.9983 - val_loss: 0.0145 - val_acc: 0.9987\n",
      "Epoch 40/50\n",
      "262363/262363 [==============================] - 2s 9us/step - loss: 0.0124 - acc: 0.9983 - val_loss: 0.0107 - val_acc: 0.9987\n",
      "Epoch 41/50\n",
      "262363/262363 [==============================] - 2s 9us/step - loss: 0.0123 - acc: 0.9983 - val_loss: 0.0112 - val_acc: 0.9987\n",
      "Epoch 42/50\n",
      "262363/262363 [==============================] - 2s 9us/step - loss: 0.0124 - acc: 0.9983 - val_loss: 0.0108 - val_acc: 0.9987\n",
      "Epoch 43/50\n",
      "262363/262363 [==============================] - 2s 9us/step - loss: 0.0124 - acc: 0.9983 - val_loss: 0.0107 - val_acc: 0.9987\n",
      "Epoch 44/50\n",
      "262363/262363 [==============================] - 2s 9us/step - loss: 0.0123 - acc: 0.9983 - val_loss: 0.0112 - val_acc: 0.9987\n",
      "Epoch 45/50\n",
      "262363/262363 [==============================] - 2s 9us/step - loss: 0.0124 - acc: 0.9983 - val_loss: 0.0114 - val_acc: 0.9987\n",
      "Epoch 46/50\n",
      "262363/262363 [==============================] - 2s 8us/step - loss: 0.0123 - acc: 0.9983 - val_loss: 0.0116 - val_acc: 0.9987\n",
      "Epoch 47/50\n",
      "262363/262363 [==============================] - 2s 9us/step - loss: 0.0124 - acc: 0.9983 - val_loss: 0.0167 - val_acc: 0.9987\n",
      "Epoch 48/50\n",
      "262363/262363 [==============================] - 2s 9us/step - loss: 0.0123 - acc: 0.9983 - val_loss: 0.0113 - val_acc: 0.9987\n",
      "Epoch 49/50\n",
      "262363/262363 [==============================] - 2s 9us/step - loss: 0.0124 - acc: 0.9983 - val_loss: 0.0118 - val_acc: 0.9987\n",
      "Epoch 50/50\n",
      "262363/262363 [==============================] - 2s 9us/step - loss: 0.0124 - acc: 0.9983 - val_loss: 0.0107 - val_acc: 0.9987\n"
     ]
    }
   ],
   "source": [
    "from keras.layers import Dense\n",
    "from keras.models import Sequential\n",
    "model = Sequential()\n",
    "model.add(Dense(64,activation = 'relu',input_shape = (x_tr.shape[1],)))\n",
    "model.add(Dense(64,activation = 'relu'))\n",
    "model.add(Dense(32,activation= 'relu')) \n",
    "model.add(Dense(1,activation = 'sigmoid'))\n",
    "model.compile(optimizer = 'rmsprop', loss = 'binary_crossentropy',metrics = ['accuracy'])\n",
    "history = model.fit(x_tr,y_tr,epochs = 50, batch_size = 512, validation_data=(x_va,y_va))\n"
   ]
  },
  {
   "cell_type": "code",
   "execution_count": 12,
   "metadata": {},
   "outputs": [
    {
     "data": {
      "text/plain": [
       "dict_keys(['val_loss', 'val_acc', 'loss', 'acc'])"
      ]
     },
     "execution_count": 12,
     "metadata": {},
     "output_type": "execute_result"
    }
   ],
   "source": [
    "history_dic = history.history\n",
    "history_dic.keys()"
   ]
  },
  {
   "cell_type": "code",
   "execution_count": 13,
   "metadata": {},
   "outputs": [],
   "source": [
    "loss_values = history_dic['loss']\n",
    "val_loss_values = history_dic['val_loss']\n",
    "epochs = range(1,len(history_dic['acc'])+1)"
   ]
  },
  {
   "cell_type": "code",
   "execution_count": 19,
   "metadata": {},
   "outputs": [
    {
     "data": {
      "image/png": "[encoded data removed]",
      "text/plain": [
       "<Figure size 432x288 with 1 Axes>"
      ]
     },
     "metadata": {
      "needs_background": "light"
     },
     "output_type": "display_data"
    }
   ],
   "source": [
    "plt.plot(epochs, loss_values, 'bo', label = 'Training loss')\n",
    "plt.plot(epochs, val_loss_values,'b', label = 'Validation loss')\n",
    "plt.title('Training and Validation loss')\n",
    "plt.xlabel('Epochs')\n",
    "plt.xticks()\n",
    "plt.ylabel('Loss')\n",
    "plt.yticks()\n",
    "plt.legend()\n",
    "plt.show()"
   ]
  },
  {
   "cell_type": "code",
   "execution_count": 21,
   "metadata": {},
   "outputs": [
    {
     "data": {
      "image/png": "[encoded data removed]",
      "text/plain": [
       "<Figure size 432x288 with 1 Axes>"
      ]
     },
     "metadata": {
      "needs_background": "light"
     },
     "output_type": "display_data"
    }
   ],
   "source": [
    "acc_values = history_dic['acc']\n",
    "val_acc_values = history_dic['val_acc']\n",
    "plt.plot(epochs, acc_values, 'bo', label = 'Training acc')\n",
    "plt.plot(epochs, val_acc_values,'b', label = 'Validation acc')\n",
    "plt.title('Training and Validation accuracy')\n",
    "plt.xlabel('Epochs')\n",
    "plt.xticks()\n",
    "plt.ylabel('Accuracy')\n",
    "plt.yticks()\n",
    "plt.legend()\n",
    "plt.show()"
   ]
  },
  {
   "cell_type": "code",
   "execution_count": 23,
   "metadata": {},
   "outputs": [
    {
     "name": "stdout",
     "output_type": "stream",
     "text": [
      "5697/5697 [==============================] - 0s 23us/step\n"
     ]
    }
   ],
   "source": [
    "results = model.evaluate(x_t,y_t)"
   ]
  },
  {
   "cell_type": "code",
   "execution_count": 24,
   "metadata": {},
   "outputs": [
    {
     "data": {
      "text/plain": [
       "[0.02207909076134495, 0.9971915043005091]"
      ]
     },
     "execution_count": 24,
     "metadata": {},
     "output_type": "execute_result"
    }
   ],
   "source": [
    "results"
   ]
  },
  {
   "cell_type": "code",
   "execution_count": null,
   "metadata": {},
   "outputs": [],
   "source": []
  }
 ],
 "metadata": {
  "kernelspec": {
   "display_name": "Python 3",
   "language": "python",
   "name": "python3"
  },
  "language_info": {
   "codemirror_mode": {
    "name": "ipython",
    "version": 3
   },
   "file_extension": ".py",
   "mimetype": "text/x-python",
   "name": "python",
   "nbconvert_exporter": "python",
   "pygments_lexer": "ipython3",
   "version": "3.7.3"
  }
 },
 "nbformat": 4,
 "nbformat_minor": 4
}
